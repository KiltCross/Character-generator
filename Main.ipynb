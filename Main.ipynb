{
  "nbformat": 4,
  "nbformat_minor": 0,
  "metadata": {
    "colab": {
      "name": "Main",
      "provenance": [],
      "collapsed_sections": [],
      "machine_shape": "hm",
      "include_colab_link": true
    },
    "kernelspec": {
      "name": "python3",
      "display_name": "Python 3"
    },
    "accelerator": "GPU"
  },
  "cells": [
    {
      "cell_type": "markdown",
      "metadata": {
        "id": "view-in-github",
        "colab_type": "text"
      },
      "source": [
        "<a href=\"https://colab.research.google.com/github/KiltCross/Character-generator/blob/master/Main.ipynb\" target=\"_parent\"><img src=\"https://colab.research.google.com/assets/colab-badge.svg\" alt=\"Open In Colab\"/></a>"
      ]
    },
    {
      "cell_type": "code",
      "metadata": {
        "id": "aNsabu_yHlit",
        "colab_type": "code",
        "colab": {
          "base_uri": "https://localhost:8080/",
          "height": 35
        },
        "outputId": "ccbe0a17-7a2a-40ee-b6dc-3e15273bf877"
      },
      "source": [
        "import tensorflow as tf \n",
        "\n",
        "print(tf.version)\n",
        "\n",
        "#!pip install --upgrade tensorflow\n",
        "\n",
        "from tensorflow.keras import layers"
      ],
      "execution_count": 1,
      "outputs": [
        {
          "output_type": "stream",
          "text": [
            "<module 'tensorflow._api.v2.version' from '/usr/local/lib/python3.6/dist-packages/tensorflow/_api/v2/version/__init__.py'>\n"
          ],
          "name": "stdout"
        }
      ]
    },
    {
      "cell_type": "code",
      "metadata": {
        "id": "mGWQ0PQNL9ic",
        "colab_type": "code",
        "colab": {}
      },
      "source": [
        "from __future__ import absolute_import, division, print_function, unicode_literals"
      ],
      "execution_count": 2,
      "outputs": []
    },
    {
      "cell_type": "code",
      "metadata": {
        "id": "dGnYOXxuMJ3L",
        "colab_type": "code",
        "colab": {}
      },
      "source": [
        "import IPython.display as display\n",
        "\n",
        "import time\n",
        "import numpy as np\n",
        "import matplotlib.pyplot as plt\n",
        "import PIL\n",
        "from PIL import Image\n",
        "import imageio\n",
        "\n",
        "import math \n",
        "\n",
        "from IPython import display\n",
        "\n",
        "import matplotlib.image as mpimg"
      ],
      "execution_count": 3,
      "outputs": []
    },
    {
      "cell_type": "code",
      "metadata": {
        "id": "i3l-j8wTm4gy",
        "colab_type": "code",
        "colab": {}
      },
      "source": [
        "!pip install -q pyyaml h5py"
      ],
      "execution_count": 4,
      "outputs": []
    },
    {
      "cell_type": "markdown",
      "metadata": {
        "id": "tlz-CdNAF00M",
        "colab_type": "text"
      },
      "source": [
        "This allow to this notebook to access the drive files"
      ]
    },
    {
      "cell_type": "code",
      "metadata": {
        "id": "k0RcZQ4NwYg5",
        "colab_type": "code",
        "colab": {
          "base_uri": "https://localhost:8080/",
          "height": 129
        },
        "outputId": "f99547ff-c8e1-4c49-f5dd-d1a6aae3bff2"
      },
      "source": [
        "from google.colab import drive\n",
        "\n",
        "drive.mount('/content/gdrive')"
      ],
      "execution_count": 5,
      "outputs": [
        {
          "output_type": "stream",
          "text": [
            "Go to this URL in a browser: https://accounts.google.com/o/oauth2/auth?client_id=947318989803-6bn6qk8qdgf4n4g3pfee6491hc0brc4i.apps.googleusercontent.com&redirect_uri=urn%3aietf%3awg%3aoauth%3a2.0%3aoob&response_type=code&scope=email%20https%3a%2f%2fwww.googleapis.com%2fauth%2fdocs.test%20https%3a%2f%2fwww.googleapis.com%2fauth%2fdrive%20https%3a%2f%2fwww.googleapis.com%2fauth%2fdrive.photos.readonly%20https%3a%2f%2fwww.googleapis.com%2fauth%2fpeopleapi.readonly\n",
            "\n",
            "Enter your authorization code:\n",
            "··········\n",
            "Mounted at /content/gdrive\n"
          ],
          "name": "stdout"
        }
      ]
    },
    {
      "cell_type": "markdown",
      "metadata": {
        "id": "1DKROLykcK4e",
        "colab_type": "text"
      },
      "source": [
        "This load the saved model"
      ]
    },
    {
      "cell_type": "code",
      "metadata": {
        "id": "byC8xlB1Zny3",
        "colab_type": "code",
        "colab": {}
      },
      "source": [
        "generator = tf.keras.models.load_model(\"gdrive/My Drive/Colab Notebooks/Equestria_girls_character_generator/generator.h5\")\n",
        "discriminator = tf.keras.models.load_model(\"gdrive/My Drive/Colab Notebooks/Equestria_girls_character_generator/discriminator.h5\")"
      ],
      "execution_count": null,
      "outputs": []
    },
    {
      "cell_type": "markdown",
      "metadata": {
        "id": "er0YZAbIlJuN",
        "colab_type": "text"
      },
      "source": [
        "Setting the metadata"
      ]
    },
    {
      "cell_type": "code",
      "metadata": {
        "id": "wQZ9f4a2FSpx",
        "colab_type": "code",
        "colab": {}
      },
      "source": [
        "def metadata(desire_data, desire_data_of_desire_data=False):\n",
        "  switcher = {\n",
        "      'image_shape': [128,64,4], #shape of the images\n",
        "      'mini_batch_size': 244, #size of the mini batches what the images are diveded\n",
        "      'batch_size': 24*2, #total of mini batches. (24 for recolor and 2 for swamp)\n",
        "      'pre_train_discriminator_epoch': 1, #epochs of the discriminador pre-training\n",
        "      'pre_train_generator_epoch': 50, #epochs of the generador pre-training\n",
        "      'train_epoch': 1, #epochs of the meain training\n",
        "      'pre_train_batch_size':  1, #quantity of mini batches used to do the pre training (pre main training) training\n",
        "      'train_batch_size': 1, #quantity of mini batches used to do the training\n",
        "      'test_batch_size': 1, #quantity of mini batches used to do the testing\n",
        "      'seed_lenght': 128 #it is the lenght of the seed what the generator uses to generate the images\n",
        "  }\n",
        "  return switcher.get(desire_data)[desire_data_of_desire_data] if desire_data_of_desire_data else switcher.get(desire_data)"
      ],
      "execution_count": 18,
      "outputs": []
    },
    {
      "cell_type": "code",
      "metadata": {
        "id": "Wld610ILhK1H",
        "colab_type": "code",
        "colab": {}
      },
      "source": [
        "def image_resize(img, new_size=[128,64]):\n",
        "  new_size[0] , new_size[1] = new_size[1], new_size[0]\n",
        "  img = Image.fromarray((img*255).astype(np.uint8),\"RGBA\")\n",
        "  img = img.resize(new_size)\n",
        "  img = np.array(img)/255\n",
        "  return img"
      ],
      "execution_count": 7,
      "outputs": []
    },
    {
      "cell_type": "markdown",
      "metadata": {
        "id": "qXK5ZtIdO33t",
        "colab_type": "text"
      },
      "source": [
        "Setting the function what import the databases"
      ]
    },
    {
      "cell_type": "code",
      "metadata": {
        "id": "yYyorCR6PJn5",
        "colab_type": "code",
        "colab": {}
      },
      "source": [
        "#the ds is divided on groups of 244 images, and the batch size is in units of this groups\n",
        "\n",
        "def DS(desired_ds='train', batch_size=int(2*24), train_batch_size = (5), test_batch_size = (1), pre_train_batch_size = (1), mini_batch_size=(244), image_shape=[128,64,4]):\n",
        "\n",
        "  train_batch_size = int(train_batch_size * mini_batch_size)\n",
        "  test_batch_size = int(test_batch_size * mini_batch_size)\n",
        "  pre_train_batch_size = int(pre_train_batch_size * mini_batch_size)\n",
        "\n",
        "  last_timing = time.time()\n",
        "  time_elapsed = 0\n",
        "  count = 0\n",
        "\n",
        "  if (desired_ds == 'train'):\n",
        "    print(\"Importing main training database\")\n",
        "    ds = np.zeros([train_batch_size,image_shape[0],image_shape[1],image_shape[2]], dtype='float32')\n",
        "    for train_image in range(train_batch_size):\n",
        "\n",
        "      start = time.time()\n",
        "      count += 1\n",
        "      time_left = (time_elapsed/count)*(train_batch_size-count)\n",
        "\n",
        "      ds[train_image] =  image_resize(mpimg.imread(\"gdrive/My Drive/Colab Notebooks/Equestria_girls_character_generator/Data_set/0\"+str(train_image+1)+\".png\"),image_shape[:2])\n",
        "      time_elapsed += (start - last_timing)\n",
        "      print(\"Image number: \"+str(train_image+1)+\"/\"+str(train_batch_size)+\"  |  Time left: \"+str(int(time_left/3512))+\" hours - \"+str(int((time_left%3512)/60))+\" minutes - \"+str(int(time_left%60))+\" seconds  |  Time elapsed: \"+str(int(time_elapsed/(60*60)))+\" hours - \"+str(int(time_elapsed%(60*60)/60))+\" minutes - \"+str(int(time_elapsed%60))+\" seconds\")\n",
        "      \n",
        "      last_timing = start\n",
        "\n",
        "    ds = tf.reshape(ds, [train_batch_size,image_shape[0],image_shape[1],image_shape[2],1])\n",
        "    ds = tf.random.shuffle(ds)\n",
        "\n",
        "  if (desired_ds == 'test'):\n",
        "    print(\"Importing test database\")\n",
        "    ds = np.zeros([test_batch_size,image_shape[0],image_shape[1],image_shape[2]], dtype='float32')\n",
        "    for test_image in range(test_batch_size):\n",
        "\n",
        "      start = time.time()\n",
        "      count += 1\n",
        "      time_left = (time_elapsed/count)*(test_batch_size-count)\n",
        "\n",
        "      ds[test_image] = image_resize(mpimg.imread(\"gdrive/My Drive/Colab Notebooks/Equestria_girls_character_generator/Data_set/0\"+str(train_batch_size + test_image+1)+\".png\"),image_shape[:2])\n",
        "      time_elapsed += (start - last_timing)\n",
        "      print(\"Image number: \"+str(test_image+1)+\"/\"+str(test_batch_size)+\"  |  Time left: \"+str(int(time_left/3512))+\" hours - \"+str(int((time_left%3512)/60))+\" minutes - \"+str(int(time_left%60))+\" seconds  |  Time elapsed: \"+str(int(time_elapsed/(60*60)))+\" hours - \"+str(int(time_elapsed%(60*60)/60))+\" minutes - \"+str(int(time_elapsed%60))+\" seconds\")\n",
        "\n",
        "      last_timing = start      \n",
        "\n",
        "    ds = tf.reshape(ds, [test_batch_size,image_shape[0],image_shape[1],image_shape[2],1])\n",
        "    ds = tf.random.shuffle(ds)\n",
        "\n",
        "\n",
        "  if (desired_ds == 'pre_train'):\n",
        "    print(\"Importing training pre main training database\")\n",
        "    ds = np.zeros([pre_train_batch_size,image_shape[0],image_shape[1],image_shape[2]], dtype='float32')\n",
        "    for pre_train_image in range(pre_train_batch_size):\n",
        "\n",
        "      start = time.time()\n",
        "      count += 1\n",
        "      time_left = (time_elapsed/count)*(pre_train_batch_size-count)      \n",
        "\n",
        "      image_num = (train_batch_size + test_batch_size) + pre_train_image+1\n",
        "      ds[pre_train_image] = image_resize(mpimg.imread(\"gdrive/My Drive/Colab Notebooks/Equestria_girls_character_generator/Data_set/0\"+str(image_num)+\".png\"),image_shape[:2])\n",
        "      time_elapsed += (start - last_timing)\n",
        "      print(\"Image number: \"+str(pre_train_image+1)+\"/\"+str(pre_train_batch_size)+\"  |  Time left: \"+str(int(time_left/3512))+\" hours - \"+str(int((time_left%3512)/60))+\" minutes - \"+str(int(time_left%60))+\" seconds  |  Time elapsed: \"+str(int(time_elapsed/(60*60)))+\" hours - \"+str(int(time_elapsed%(60*60)/60))+\" minutes - \"+str(int(time_elapsed%60))+\" seconds\")\n",
        "\n",
        "      last_timing = start  \n",
        "\n",
        "    ds = tf.reshape(ds, [pre_train_batch_size,image_shape[0],image_shape[1],image_shape[2],1])\n",
        "    ds = tf.random.shuffle(ds)\n",
        "  return ds\n"
      ],
      "execution_count": 8,
      "outputs": []
    },
    {
      "cell_type": "markdown",
      "metadata": {
        "id": "3d6o1caaPCtN",
        "colab_type": "text"
      },
      "source": [
        "Model builder"
      ]
    },
    {
      "cell_type": "code",
      "metadata": {
        "id": "F32jacZnPLYF",
        "colab_type": "code",
        "cellView": "both",
        "colab": {}
      },
      "source": [
        "def generator_model(primary_activation_function=None, semi_final_activation_function='tanh',  final_activation_function='sigmoid', seed_lenght=128, alpha = 0.2, momentum = 0.8, kernel = (4, 4, 4)):\n",
        "\n",
        "  model = tf.keras.Sequential()\n",
        "  model.add(layers.Dense(1*1*1*128, input_shape=(seed_lenght,), use_bias=False, name='Dense_G_1'))\n",
        "  model.add(layers.BatchNormalization(momentum=momentum))\n",
        "  model.add(layers.LeakyReLU(alpha))\n",
        "\n",
        "  model.add(layers.Reshape((1,1,1,128)))\n",
        "\n",
        "  model.add(layers.Conv3DTranspose(128, kernel_size=kernel, strides=(2, 2, 1), padding='same', use_bias=False, activation=primary_activation_function, name='Conv3DTranspose_G_1'))\n",
        "  model.add(layers.BatchNormalization(momentum=momentum))\n",
        "  model.add(layers.LeakyReLU(alpha))\n",
        "\n",
        "  model.add(layers.Conv3DTranspose(256, kernel_size=kernel, strides=(4, 2, 2), padding='same', use_bias=False, activation=primary_activation_function, name='Conv3DTranspose_G_2'))\n",
        "  model.add(layers.BatchNormalization(momentum=momentum))\n",
        "  model.add(layers.LeakyReLU(alpha))\n",
        "\n",
        "  model.add(layers.Conv3DTranspose(512, kernel_size=kernel, strides=(4, 4, 1), padding='same', use_bias=False, activation=semi_final_activation_function, name='Conv3DTranspose_G_3'))\n",
        "  model.add(layers.BatchNormalization(momentum=momentum))\n",
        "  model.add(layers.LeakyReLU(alpha))\n",
        "\n",
        "\n",
        "  model.add(layers.Conv3DTranspose(1, kernel_size=kernel, strides=(4, 4, 2), padding='same', use_bias=False, activation=final_activation_function, name='Conv3DTranspose_G_Final'))\n",
        "\n",
        "\n",
        "  return model"
      ],
      "execution_count": 9,
      "outputs": []
    },
    {
      "cell_type": "code",
      "metadata": {
        "id": "JkTA7ZZ-WCHm",
        "colab_type": "code",
        "colab": {}
      },
      "source": [
        "def discriminator_model(primary_activation_function=None, semi_final_activation_function=None, final_activation_function='sigmoid', input_shape=[128,64,4], alpha = 0.2, dropout = 0.3, kernel = (4, 4, 4)):\n",
        "\n",
        "  model = tf.keras.Sequential()\n",
        "\n",
        "  model.add(layers.Conv3D(64, kernel_size=kernel, strides=(2, 2, 1), padding='same', activation=primary_activation_function, name='Dense_D_1', input_shape=[input_shape[0], input_shape[1], input_shape[2], 1]))\n",
        "  model.add(layers.LeakyReLU(alpha))\n",
        "  model.add(layers.Dropout(dropout))\n",
        "\n",
        "\n",
        "  model.add(layers.Conv3D(128, kernel_size=kernel, strides=(4, 2, 2), padding='same', activation=primary_activation_function, name='Dense_D_2'))\n",
        "  model.add(layers.LeakyReLU(alpha))\n",
        "  model.add(layers.Dropout(dropout))\n",
        "\n",
        "  model.add(layers.Conv3D(256, kernel_size=kernel, strides=(4, 4, 1), padding='same', activation=primary_activation_function, name='Dense_D_3'))\n",
        "  model.add(layers.LeakyReLU(alpha))\n",
        "  model.add(layers.Dropout(dropout))\n",
        "\n",
        "  model.add(layers.Conv3D(512, kernel_size=kernel, strides=(4, 4, 2), padding='same', activation=semi_final_activation_function, name='Dense_D_4'))\n",
        "  model.add(layers.LeakyReLU(alpha))\n",
        "  model.add(layers.Dropout(dropout))\n",
        "\n",
        "  model.add(layers.Flatten())\n",
        "  model.add(layers.Dense(1, activation=final_activation_function, name='Dense_D_Final'))\n",
        "\n",
        "\n",
        "  return model"
      ],
      "execution_count": 10,
      "outputs": []
    },
    {
      "cell_type": "markdown",
      "metadata": {
        "id": "0oGwNsegSEzY",
        "colab_type": "text"
      },
      "source": [
        "Model functionality test:"
      ]
    },
    {
      "cell_type": "code",
      "metadata": {
        "id": "RHSPkWtmHThm",
        "colab_type": "code",
        "colab": {
          "base_uri": "https://localhost:8080/",
          "height": 286
        },
        "outputId": "a2dc6b84-6c68-47ac-f2cd-f4409901ed9a"
      },
      "source": [
        "generator = generator_model(seed_lenght=metadata(\"seed_lenght\"))\n",
        "\n",
        "discriminator = discriminator_model(input_shape=metadata(\"image_shape\"), final_activation_function='sigmoid')\n",
        "\n",
        "#generator.summary()\n",
        "\n",
        "#discriminator.summary()\n",
        "\n",
        "with tf.device('/CPU:0'):\n",
        "\n",
        "  seed = tf.random.normal([1,metadata(\"seed_lenght\")])\n",
        "\n",
        "  generated_image = generator(seed, training=False)\n",
        "\n",
        "  generated_image.shape\n",
        "\n",
        "  result = discriminator(generated_image, training=False) \n",
        "  \n",
        "  plt.imshow(generated_image[0,:,:,:,0])  \n",
        "\n",
        "  print(result)\n"
      ],
      "execution_count": 11,
      "outputs": [
        {
          "output_type": "stream",
          "text": [
            "tf.Tensor([[0.501294]], shape=(1, 1), dtype=float32)\n"
          ],
          "name": "stdout"
        },
        {
          "output_type": "display_data",
          "data": {
            "image/png": "[encoded data removed]",
            "text/plain": [
              "<Figure size 432x288 with 1 Axes>"
            ]
          },
          "metadata": {
            "tags": [],
            "needs_background": "light"
          }
        }
      ]
    },
    {
      "cell_type": "markdown",
      "metadata": {
        "id": "6aQkl2yPlCAb",
        "colab_type": "text"
      },
      "source": [
        "Setting some useful varibles"
      ]
    },
    {
      "cell_type": "code",
      "metadata": {
        "id": "Y4wdZWlKk68n",
        "colab_type": "code",
        "colab": {}
      },
      "source": [
        "generator_optimizer = tf.keras.optimizers.Adam(0.002, beta_1=0.5)\n",
        "\n",
        "discriminator_optimizer = tf.keras.optimizers.Adam(0.002, beta_1=0.5)\n",
        "\n",
        "mean_squared = tf.keras.losses.mean_squared_error\n",
        "\n",
        "cross_entropy = tf.keras.losses.BinaryCrossentropy(from_logits=True)\n"
      ],
      "execution_count": 12,
      "outputs": []
    },
    {
      "cell_type": "markdown",
      "metadata": {
        "id": "47Rp4vH2YDrE",
        "colab_type": "text"
      },
      "source": [
        "Setting the generator loss"
      ]
    },
    {
      "cell_type": "code",
      "metadata": {
        "id": "KXriaF30YNVA",
        "colab_type": "code",
        "colab": {}
      },
      "source": [
        "def generator_loss_function(fake_output):\n",
        "    return cross_entropy(tf.ones_like(fake_output), fake_output)"
      ],
      "execution_count": 13,
      "outputs": []
    },
    {
      "cell_type": "markdown",
      "metadata": {
        "id": "TQ3Dns52YSKp",
        "colab_type": "text"
      },
      "source": [
        "Setting the discriminator loss"
      ]
    },
    {
      "cell_type": "code",
      "metadata": {
        "id": "_lKbmZidYZCe",
        "colab_type": "code",
        "colab": {}
      },
      "source": [
        "def discriminator_loss_function(real_output, fake_output):\n",
        "    real_loss = cross_entropy(tf.ones_like(real_output), real_output)\n",
        "    fake_loss = cross_entropy(tf.zeros_like(fake_output), fake_output)\n",
        "    total_loss = real_loss + fake_loss\n",
        "    return total_loss"
      ],
      "execution_count": 14,
      "outputs": []
    },
    {
      "cell_type": "markdown",
      "metadata": {
        "id": "bLRVrfBqvQUQ",
        "colab_type": "text"
      },
      "source": [
        "Train function part 1 of 2:"
      ]
    },
    {
      "cell_type": "code",
      "metadata": {
        "id": "ADZznQ4IsB-E",
        "colab_type": "code",
        "cellView": "both",
        "colab": {}
      },
      "source": [
        "def train_step(image, image_shape=[128,64,4], seed_lenght=128):\n",
        "\n",
        "    seed = tf.random.normal([1,seed_lenght])\n",
        "\n",
        "    image = tf.reshape(image, [1,image_shape[0],image_shape[1],image_shape[2],1])\n",
        "\n",
        "    with tf.GradientTape() as generator_tape, tf.GradientTape() as discriminator_tape:\n",
        "\n",
        "      generated_image = generator(seed, training=True)\n",
        "\n",
        "      #This is for evoid an inexplicable shape error\n",
        "      generated_image.shape\n",
        "\n",
        "      real_output = discriminator(image, training=True)\n",
        "      fake_output = discriminator(generated_image, training=True)\n",
        "\n",
        "      generator_loss = generator_loss_function(fake_output)\n",
        "      discriminator_loss = discriminator_loss_function(real_output, fake_output)\n",
        "\n",
        "      gradients_of_discriminator = discriminator_tape.gradient(discriminator_loss, discriminator.trainable_variables)\n",
        "      gradients_of_generator = generator_tape.gradient(generator_loss, generator.trainable_variables)\n",
        "\n",
        "      \n",
        "    discriminator_optimizer.apply_gradients(zip(gradients_of_discriminator, discriminator.trainable_variables))\n",
        "    generator_optimizer.apply_gradients(zip(gradients_of_generator, generator.trainable_variables))\n",
        "\n",
        "    \n",
        " \n"
      ],
      "execution_count": 15,
      "outputs": []
    },
    {
      "cell_type": "markdown",
      "metadata": {
        "id": "9ULZcozm2Da2",
        "colab_type": "text"
      },
      "source": [
        "Train function part 2 of 2:"
      ]
    },
    {
      "cell_type": "code",
      "metadata": {
        "id": "5GVgNv8a2ZOG",
        "colab_type": "code",
        "colab": {}
      },
      "source": [
        "def train(images, epochs, image_shape=[128,64,4], seed_lenght=128):\n",
        "\n",
        "  last_timing = time.time()\n",
        "  time_elapsed = 0\n",
        "  count = 0\n",
        "\n",
        "  for epoch in range(epochs):\n",
        "\n",
        "      for batch_num in range(images.shape[0]):\n",
        "        start = time.time()\n",
        "        count += 1\n",
        "        train_step(images[batch_num], image_shape, seed_lenght)\n",
        "        time_elapsed += (start - last_timing)\n",
        "        time_left = (time_elapsed/count)*((images.shape[0]*epochs)-count)\n",
        "        print(\"Image number: \"+str(batch_num+1)+\"/\"+str(images.shape[0])+\"  |  Epoch: \"+str(epoch+1)+\"/\"+str(epochs)+\"  |  Iteration: \"+str(count)+\"/\"+str(images.shape[0]*epochs)+\"  |  Iteration duration: \"+str(start - last_timing)+\" seconds  |  Time left: \"+str(int(time_left/3512))+\" hours - \"+str(int((time_left%3512)/60))+\" minutes - \"+str(int(time_left%60))+\" seconds  |  Time elapsed: \"+str(int(time_elapsed/(60*60)))+\" hours - \"+str(int(time_elapsed%(60*60)/60))+\" minutes - \"+str(int(time_elapsed%60))+\" seconds\")\n",
        "        last_timing = start\n",
        "\n",
        "  print(\"Finish!, take: \"+str(int(time_elapsed/(60*60)))+\":\"+str(int(time_elapsed%(60*60)/60))+\":\"+str(int(time_elapsed%60)))\n"
      ],
      "execution_count": 16,
      "outputs": []
    },
    {
      "cell_type": "markdown",
      "metadata": {
        "id": "kBgvn0nzsgdP",
        "colab_type": "text"
      },
      "source": [
        "Importing the databases"
      ]
    },
    {
      "cell_type": "code",
      "metadata": {
        "id": "2T5NClKwquQR",
        "colab_type": "code",
        "colab": {}
      },
      "source": [
        "pre_train_ds=DS('pre_train',pre_train_batch_size=metadata(\"pre_train_batch_size\"), mini_batch_size=metadata(\"mini_batch_size\"), image_shape=metadata(\"image_shape\"))"
      ],
      "execution_count": null,
      "outputs": []
    },
    {
      "cell_type": "code",
      "metadata": {
        "id": "YOCntIvGEH_z",
        "colab_type": "code",
        "colab": {}
      },
      "source": [
        "train_ds=DS('train', train_batch_size=(metadata(\"train_batch_size\")), mini_batch_size=metadata(\"mini_batch_size\"), image_shape=metadata(\"image_shape\"))"
      ],
      "execution_count": null,
      "outputs": []
    },
    {
      "cell_type": "code",
      "metadata": {
        "id": "CZBAflCAr3kE",
        "colab_type": "code",
        "colab": {}
      },
      "source": [
        "test_ds=DS('test', test_batch_size=metadata(\"test_batch_size\"), mini_batch_size=metadata(\"mini_batch_size\"), image_shape=metadata(\"image_shape\"))"
      ],
      "execution_count": null,
      "outputs": []
    },
    {
      "cell_type": "markdown",
      "metadata": {
        "id": "BSPb5TtXWDUu",
        "colab_type": "text"
      },
      "source": [
        "Train test part:"
      ]
    },
    {
      "cell_type": "code",
      "metadata": {
        "id": "1ujUzbxHFyiL",
        "colab_type": "code",
        "colab": {
          "base_uri": "https://localhost:8080/",
          "height": 35
        },
        "outputId": "14205253-8ef4-40b7-c094-ab1470eb573b"
      },
      "source": [
        "answer = np.ones([metadata(\"pre_train_batch_size\")*metadata(\"mini_batch_size\"), 1], dtype='float32')\n",
        "#Pre-trainig the discriminator\n",
        "with tf.device('/GPU:0'), tf.device('/CPU:0'):\n",
        "\n",
        "  discriminator.compile(optimizer=discriminator_optimizer, loss=cross_entropy, metrics=['accuracy'])\n",
        "  discriminator.fit(x=pre_train_ds, y=answer, batch_size=metadata(\"pre_train_batch_size\")*metadata(\"mini_batch_size\"), use_multiprocessing=True, epochs=metadata(\"pre_train_discriminator_epoch\"))"
      ],
      "execution_count": null,
      "outputs": [
        {
          "output_type": "stream",
          "text": [
            "1/1 [==============================] - 0s 1ms/step - loss: 0.3133 - accuracy: 1.0000\n"
          ],
          "name": "stdout"
        }
      ]
    },
    {
      "cell_type": "code",
      "metadata": {
        "id": "F4RPrafHUmSG",
        "colab_type": "code",
        "colab": {}
      },
      "source": [
        "seed = tf.random.normal([metadata(\"pre_train_batch_size\")*metadata(\"mini_batch_size\"),metadata(\"seed_lenght\")])\n",
        "#Pre-trainig the generator\n",
        "with tf.device('/GPU:0'), tf.device('/CPU:0'):\n",
        "\n",
        "  generator.compile(optimizer=generator_optimizer, loss=cross_entropy, metrics=['accuracy'])\n",
        "  generator.fit(x=seed, y=pre_train_ds, batch_size=(metadata(\"pre_train_batch_size\")*metadata(\"mini_batch_size\")), use_multiprocessing=True, epochs=metadata(\"pre_train_generator_epoch\"))"
      ],
      "execution_count": null,
      "outputs": []
    },
    {
      "cell_type": "code",
      "metadata": {
        "id": "y-ubHhjUWLa_",
        "colab_type": "code",
        "colab": {}
      },
      "source": [
        "\n",
        "#fitting the model\n",
        "\n",
        "with tf.device('/GPU:0'):\n",
        "\n",
        "  train(train_ds, metadata(\"train_epoch\"), metadata(\"image_shape\"), metadata(\"seed_lenght\"))\n"
      ],
      "execution_count": null,
      "outputs": []
    },
    {
      "cell_type": "markdown",
      "metadata": {
        "id": "IN6LiSpsRU3s",
        "colab_type": "text"
      },
      "source": [
        "Testing the training"
      ]
    },
    {
      "cell_type": "code",
      "metadata": {
        "id": "uL7eHBC8RVIY",
        "colab_type": "code",
        "colab": {}
      },
      "source": [
        "  discriminator.compile(optimizer=discriminator_optimizer, loss=cross_entropy, metrics=['accuracy'])\n",
        "\n",
        "  test_ds = test_ds\n",
        "\n",
        "  seed = tf.random.normal([1,metadata(\"seed_lenght\")])\n",
        "\n",
        "  anwser = np.ones([metadata(\"test_batch_size\")*metadata(\"mini_batch_size\"), 1])\n",
        "\n",
        "  discriminator_test = train_ds[0]\n",
        "  discriminator_test = tf.reshape(discriminator_test, [1,metadata(\"image_shape\",0),metadata(\"image_shape\",1),metadata(\"image_shape\",2),1])\n",
        "\n",
        "  generated_image = generator(seed, training=False)\n",
        "\n",
        "  plt.imshow(generated_image[0,:,:,:,0]) #print a image generated by the generator\n",
        "\n",
        "  perspective = discriminator(discriminator_test, training=False)\n",
        "  test_of_training = discriminator.evaluate(test_ds, anwser)\n",
        "  criterio = discriminator(generated_image, training=False)\n",
        "\n",
        "  print(perspective) #how the discriminator classifies a image used to train it\n",
        "  print(test_of_training) #a evaluation of the discriminator with a test database\n",
        "  print(criterio) #how the dicriminator classifies a image generated by the generator\n",
        "\n"
      ],
      "execution_count": null,
      "outputs": []
    },
    {
      "cell_type": "markdown",
      "metadata": {
        "id": "XRqyj5FivBsG",
        "colab_type": "text"
      },
      "source": [
        "Saving the trained model"
      ]
    },
    {
      "cell_type": "code",
      "metadata": {
        "id": "6-ENT_TljtKZ",
        "colab_type": "code",
        "colab": {}
      },
      "source": [
        "discriminator.save('gdrive/My Drive/Colab Notebooks/Equestria_girls_character_generator/discriminator.h5')\n",
        "generator.save('gdrive/My Drive/Colab Notebooks/Equestria_girls_character_generator/generator.h5')"
      ],
      "execution_count": null,
      "outputs": []
    },
    {
      "cell_type": "code",
      "metadata": {
        "id": "Ege-HMoF-d_W",
        "colab_type": "code",
        "colab": {
          "base_uri": "https://localhost:8080/",
          "height": 286
        },
        "outputId": "fe6ade77-38bc-4394-9bad-869e253842c6"
      },
      "source": [
        "#ones=tf.ones([1,metadata(\"seed_lenght\")])\n",
        "seed = tf.random.normal([1,metadata(\"seed_lenght\")])\n",
        "plt.imshow(generator(seed, training=False)[0,:,:,:,0])"
      ],
      "execution_count": 26,
      "outputs": [
        {
          "output_type": "execute_result",
          "data": {
            "text/plain": [
              "<matplotlib.image.AxesImage at 0x7f39765967b8>"
            ]
          },
          "metadata": {
            "tags": []
          },
          "execution_count": 26
        },
        {
          "output_type": "display_data",
          "data": {
            "image/png": "[encoded data removed]",
            "text/plain": [
              "<Figure size 432x288 with 1 Axes>"
            ]
          },
          "metadata": {
            "tags": [],
            "needs_background": "light"
          }
        }
      ]
    }
  ]
}